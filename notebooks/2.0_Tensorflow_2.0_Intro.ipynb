{
 "cells": [
  {
   "cell_type": "markdown",
   "metadata": {},
   "source": [
    "# Tensorflow\n",
    "\n",
    ">**TensorFlow** (https://www.tensorflow.org/) is a software library, developed by Google Brain Team within Google's Machine Learning Intelligence research organization, for the purposes of conducting machine learning and deep neural network research. \n",
    "\n",
    ">TensorFlow combines the computational algebra of compilation optimization techniques, making easy the calculation of many mathematical expressions that would be difficult to calculate, instead.\n",
    "\n",
    "\n",
    "\n",
    "## Tensorflow Main Features\n",
    "\n",
    "* Defining, optimizing, and efficiently calculating mathematical expressions involving multi-dimensional arrays (tensors).\n",
    "\n",
    "* Programming support of **deep neural networks** and machine learning techniques.\n",
    "\n",
    "* Transparent use of GPU computing, automating management and optimization of the same memory and the data used. You can write the same code and run it either on CPUs or GPUs. More specifically, TensorFlow will figure out which parts of the computation should be moved to the GPU.\n",
    "\n",
    "* High scalability of computation across machines and huge data sets.\n",
    "\n",
    "## Data Flow Graph\n",
    "\n",
    "* (**IDEA**) \n",
    "_A Machine Learning application is the result of the repeated computation of complex mathematical expressions, thus \n",
    "we could describe this computation by using a **Data Flow Graph**\n",
    "\n",
    "* **Data Flow Graph**: a graph where:\n",
    "    - each Node represents the _instance_ of a mathematical operation \n",
    "        - `multiply`, `add`, `divide`\n",
    "    - each Edge is a multi-dimensional data set (`tensors`) on which the operations are performed.\n",
    "\n",
    "## Tensorflow Graph Model\n",
    "\n",
    "* **Node**: In TensorFlow, each node represents the instantion of an operation. \n",
    "    - Each operation has inputs (`>= 2`) and outputs `>= 0`.\n",
    "    \n",
    "* **Edges**: In TensorFlow, there are two types of edge:\n",
    "    - Data Edges: \n",
    "    They are carriers of data structures (`tensors`), where an output of one operation (from one node) becomes the input for another operation.\n",
    "    - Dependency Edges: These edges indicate a _control dependency_ between two nodes (i.e. \"happens before\" relationship). \n",
    "        + Let's suppose we have two nodes `A` and `B` and a dependency edge connecting `A` to `B`. This means that `B` will start its operation only when the operation in `A` ends. \n",
    "\n",
    "## Tensorflow Graph Model (cont.)\n",
    "\n",
    "* **Operation**: This represents an abstract computation, such as adding or multiplying matrices. \n",
    "    - An operation manages tensors, and It can just be polymorphic: the same operation can manipulate different tensor element types. \n",
    "        + For example, the addition of two int32 tensors, the addition of two float tensors, and so on.\n",
    "\n",
    "* **Kernel**: This represents the concrete implementation of that operation. \n",
    "    - A kernel defines the implementation of the operation on a particular device. \n",
    "        + For example, an `add matrix` operation can have a CPU implementation and a GPU one."
   ]
  },
  {
   "cell_type": "markdown",
   "metadata": {},
   "source": [
    "# Basic Tensorflow usage"
   ]
  },
  {
   "cell_type": "markdown",
   "metadata": {},
   "source": [
    "To use it, just import it as usual!\n",
    "Here we decided also to print installed version"
   ]
  },
  {
   "cell_type": "code",
   "execution_count": 1,
   "metadata": {},
   "outputs": [
    {
     "name": "stdout",
     "output_type": "stream",
     "text": [
      "2.0.0-beta1\n"
     ]
    }
   ],
   "source": [
    "import warnings\n",
    "warnings.filterwarnings('ignore')\n",
    "import tensorflow as tf\n",
    "print(tf.__version__)"
   ]
  },
  {
   "cell_type": "markdown",
   "metadata": {},
   "source": [
    "Just to see how Tensorflow 2.0 makes our life easier let's compare such a simple operation as declaring two constants and printing its sum, both in Tensorflow 1.xx way and in the new Tensorflow fashion. Assuming you've installed and imported as tf both version (each at a time)"
   ]
  },
  {
   "cell_type": "markdown",
   "metadata": {},
   "source": [
    "### Tensorflow 1.xx way"
   ]
  },
  {
   "cell_type": "code",
   "execution_count": 2,
   "metadata": {},
   "outputs": [
    {
     "ename": "AttributeError",
     "evalue": "module 'tensorflow' has no attribute 'InteractiveSession'",
     "output_type": "error",
     "traceback": [
      "\u001b[0;31m---------------------------------------------------------------------------\u001b[0m",
      "\u001b[0;31mAttributeError\u001b[0m                            Traceback (most recent call last)",
      "\u001b[0;32m<ipython-input-2-d6b26f872da1>\u001b[0m in \u001b[0;36m<module>\u001b[0;34m\u001b[0m\n\u001b[0;32m----> 1\u001b[0;31m \u001b[0mtfs\u001b[0m \u001b[0;34m=\u001b[0m \u001b[0mtf\u001b[0m\u001b[0;34m.\u001b[0m\u001b[0mInteractiveSession\u001b[0m\u001b[0;34m(\u001b[0m\u001b[0;34m)\u001b[0m\u001b[0;34m\u001b[0m\u001b[0;34m\u001b[0m\u001b[0m\n\u001b[0m\u001b[1;32m      2\u001b[0m \u001b[0mc1\u001b[0m \u001b[0;34m=\u001b[0m \u001b[0mtf\u001b[0m\u001b[0;34m.\u001b[0m\u001b[0mconstant\u001b[0m\u001b[0;34m(\u001b[0m\u001b[0;36m10\u001b[0m\u001b[0;34m,\u001b[0m \u001b[0mname\u001b[0m\u001b[0;34m=\u001b[0m\u001b[0;34m'x'\u001b[0m\u001b[0;34m)\u001b[0m\u001b[0;34m\u001b[0m\u001b[0;34m\u001b[0m\u001b[0m\n\u001b[1;32m      3\u001b[0m \u001b[0mc2\u001b[0m \u001b[0;34m=\u001b[0m \u001b[0mtf\u001b[0m\u001b[0;34m.\u001b[0m\u001b[0mconstant\u001b[0m\u001b[0;34m(\u001b[0m\u001b[0;36m2\u001b[0m\u001b[0;34m,\u001b[0m \u001b[0mname\u001b[0m\u001b[0;34m=\u001b[0m\u001b[0;34m'y'\u001b[0m\u001b[0;34m)\u001b[0m\u001b[0;34m\u001b[0m\u001b[0;34m\u001b[0m\u001b[0m\n\u001b[1;32m      4\u001b[0m \u001b[0mop\u001b[0m \u001b[0;34m=\u001b[0m \u001b[0mtf\u001b[0m\u001b[0;34m.\u001b[0m\u001b[0madd\u001b[0m\u001b[0;34m(\u001b[0m\u001b[0mc1\u001b[0m\u001b[0;34m,\u001b[0m \u001b[0mc2\u001b[0m\u001b[0;34m)\u001b[0m\u001b[0;34m\u001b[0m\u001b[0;34m\u001b[0m\u001b[0m\n\u001b[1;32m      5\u001b[0m \u001b[0mtfs\u001b[0m\u001b[0;34m.\u001b[0m\u001b[0mrun\u001b[0m\u001b[0;34m(\u001b[0m\u001b[0mop\u001b[0m\u001b[0;34m)\u001b[0m\u001b[0;34m\u001b[0m\u001b[0;34m\u001b[0m\u001b[0m\n",
      "\u001b[0;31mAttributeError\u001b[0m: module 'tensorflow' has no attribute 'InteractiveSession'"
     ]
    }
   ],
   "source": [
    "tfs = tf.InteractiveSession()\n",
    "c1 = tf.constant(10, name='x')\n",
    "c2 = tf.constant(2, name='y')\n",
    "op = tf.add(c1, c2)\n",
    "tfs.run(op)"
   ]
  },
  {
   "cell_type": "markdown",
   "metadata": {},
   "source": [
    "### Tensorflow 2.0 way"
   ]
  },
  {
   "cell_type": "code",
   "execution_count": 4,
   "metadata": {},
   "outputs": [
    {
     "name": "stdout",
     "output_type": "stream",
     "text": [
      "tf.Tensor(12, shape=(), dtype=int32)\n"
     ]
    }
   ],
   "source": [
    "c1 = tf.constant(10)\n",
    "c2 = tf.constant(2)\n",
    "print(tf.add(c1, c2))"
   ]
  },
  {
   "cell_type": "markdown",
   "metadata": {},
   "source": [
    "As you can see, in contrast with Tensorflow 1.xx, in Tensorflow 2.0 we don need an <code>InteractiveSession</code> to run a simple piece of code, or anything!."
   ]
  },
  {
   "cell_type": "markdown",
   "metadata": {},
   "source": [
    "Let's see a more elaborated example."
   ]
  },
  {
   "cell_type": "markdown",
   "metadata": {},
   "source": [
    "### Operations with Tensorflow 1.xx"
   ]
  },
  {
   "cell_type": "markdown",
   "metadata": {},
   "source": [
    "```python\n",
    "g = tf.Graph()\n",
    "with g.as_default():\n",
    "    a = tf.constant([[10, 10], [11.,1.]])\n",
    "    x = tf.constant([[1., 0.], [0.,1.]])\n",
    "    b = tf.Variable(12.)\n",
    "    y = tf.matmul(a, x) + b\n",
    "    init_op = tf.global_variables_initializer()\n",
    "    \n",
    "with tf.Session() as sess:\n",
    "    sess.run(init_op)\n",
    "    print(sess.run(y))\n",
    "```"
   ]
  },
  {
   "cell_type": "markdown",
   "metadata": {},
   "source": [
    "### Operations with Tensorflow 2.0"
   ]
  },
  {
   "cell_type": "code",
   "execution_count": 5,
   "metadata": {},
   "outputs": [
    {
     "name": "stdout",
     "output_type": "stream",
     "text": [
      "[[22. 22.]\n",
      " [23. 13.]]\n"
     ]
    }
   ],
   "source": [
    "a = tf.constant([[10, 10], [11.,1.]])\n",
    "x = tf.constant([[1., 0.], [0.,1.]])\n",
    "b = tf.Variable(12.)\n",
    "y = tf.matmul(a, x) + b\n",
    "print(y.numpy())"
   ]
  },
  {
   "cell_type": "markdown",
   "metadata": {},
   "source": [
    "As a summary, with its **eager execution**:\n",
    "1. __Tensorflow 2.0__ doesn't require the graph definition,\n",
    "2. neither the session execution,\n",
    "3. or variable sharing via scopes and\n",
    "4. it doesn't make mandatory to initialize variables.\n",
    "\n",
    "Nice! isn't it?"
   ]
  },
  {
   "cell_type": "markdown",
   "metadata": {},
   "source": [
    "### You also may encapsulate pieces of code using tensorflow functions"
   ]
  },
  {
   "cell_type": "code",
   "execution_count": 6,
   "metadata": {},
   "outputs": [
    {
     "name": "stdout",
     "output_type": "stream",
     "text": [
      "WARNING:tensorflow:Entity <function mat_mul_plus_esc at 0x7f171a864510> could not be transformed and will be executed as-is. Please report this to the AutoGraph team. When filing the bug, set the verbosity to 10 (on Linux, `export AUTOGRAPH_VERBOSITY=10`) and attach the full output. Cause: converting <function mat_mul_plus_esc at 0x7f171a864510>: AssertionError: Bad argument number for Name: 3, expecting 4\n",
      "WARNING: Entity <function mat_mul_plus_esc at 0x7f171a864510> could not be transformed and will be executed as-is. Please report this to the AutoGraph team. When filing the bug, set the verbosity to 10 (on Linux, `export AUTOGRAPH_VERBOSITY=10`) and attach the full output. Cause: converting <function mat_mul_plus_esc at 0x7f171a864510>: AssertionError: Bad argument number for Name: 3, expecting 4\n",
      "[[22. 22.]\n",
      " [23. 13.]]\n"
     ]
    }
   ],
   "source": [
    "@tf.function\n",
    "def mat_mul_plus_esc(m1, m2, e1):\n",
    "    b = tf.constant(e1)\n",
    "    m = tf.matmul(tf.constant(m1), tf.constant(m2))\n",
    "    return m + b\n",
    "\n",
    "a1 = [[10, 10], [11.,1.]]\n",
    "x1 = [[1., 0.], [0.,1.]]\n",
    "e1 = 12.\n",
    "print(mat_mul_plus_esc(a1, x1, e1).numpy())"
   ]
  },
  {
   "cell_type": "markdown",
   "metadata": {},
   "source": [
    "# Data Types (Tensors)\n",
    "\n",
    "## One Dimensional Tensor (Vector)"
   ]
  },
  {
   "cell_type": "code",
   "execution_count": 7,
   "metadata": {},
   "outputs": [
    {
     "name": "stdout",
     "output_type": "stream",
     "text": [
      "tf.Tensor([1.   2.5  4.6  5.75 9.7 ], shape=(5,), dtype=float64)\n",
      "tf.Tensor(1.0, shape=(), dtype=float64)\n",
      "tf.Tensor(4.6, shape=(), dtype=float64)\n"
     ]
    }
   ],
   "source": [
    "import numpy as np\n",
    "tensor_1d = np.array([1, 2.5, 4.6, 5.75, 9.7])\n",
    "tf_tensor=tf.convert_to_tensor(tensor_1d,dtype=tf.float64)\n",
    "print(tf_tensor)\n",
    "print(tf_tensor[0])\n",
    "print(tf_tensor[2])"
   ]
  },
  {
   "cell_type": "markdown",
   "metadata": {},
   "source": [
    "## Two Dimensional Tensor (Matrix)"
   ]
  },
  {
   "cell_type": "code",
   "execution_count": 8,
   "metadata": {},
   "outputs": [
    {
     "name": "stdout",
     "output_type": "stream",
     "text": [
      "[[ 0  1  2  3]\n",
      " [ 4  5  6  7]\n",
      " [ 8  9 10 11]\n",
      " [12 13 14 15]]\n",
      "tf.Tensor(\n",
      "[[ 0.  1.  2.  3.]\n",
      " [ 4.  5.  6.  7.]\n",
      " [ 8.  9. 10. 11.]\n",
      " [12. 13. 14. 15.]], shape=(4, 4), dtype=float32)\n"
     ]
    }
   ],
   "source": [
    "tensor_2d = np.arange(16).reshape(4, 4)\n",
    "print(tensor_2d)\n",
    "tf_tensor = tf.convert_to_tensor(tensor_2d, dtype= tf.float32)\n",
    "print(tf_tensor)"
   ]
  },
  {
   "cell_type": "markdown",
   "metadata": {},
   "source": [
    "# Basic Operations (Examples)"
   ]
  },
  {
   "cell_type": "code",
   "execution_count": 9,
   "metadata": {},
   "outputs": [],
   "source": [
    "matrix1 = np.array([(2,2,2),(2,2,2),(2,2,2)],dtype='float32') \n",
    "matrix2 = np.array([(1,1,1),(1,1,1),(1,1,1)],dtype='float32')"
   ]
  },
  {
   "cell_type": "code",
   "execution_count": 10,
   "metadata": {},
   "outputs": [],
   "source": [
    "tf_mat1 = tf.constant(matrix1) \n",
    "tf_mat2 = tf.constant(matrix2)"
   ]
  },
  {
   "cell_type": "code",
   "execution_count": 11,
   "metadata": {},
   "outputs": [],
   "source": [
    "matrix_product = tf.matmul(tf_mat1, tf_mat2)\n",
    "matrix_sum = tf.add(tf_mat1, tf_mat2)"
   ]
  },
  {
   "cell_type": "code",
   "execution_count": 12,
   "metadata": {},
   "outputs": [],
   "source": [
    "matrix_det = tf.linalg.det(matrix2)"
   ]
  },
  {
   "cell_type": "code",
   "execution_count": 13,
   "metadata": {},
   "outputs": [
    {
     "name": "stdout",
     "output_type": "stream",
     "text": [
      "matrix1*matrix2 : \n",
      " tf.Tensor(\n",
      "[[6. 6. 6.]\n",
      " [6. 6. 6.]\n",
      " [6. 6. 6.]], shape=(3, 3), dtype=float32)\n",
      "matrix1+matrix2 : \n",
      " tf.Tensor(\n",
      "[[3. 3. 3.]\n",
      " [3. 3. 3.]\n",
      " [3. 3. 3.]], shape=(3, 3), dtype=float32)\n",
      "det(matrix2) : \n",
      " tf.Tensor(0.0, shape=(), dtype=float32)\n"
     ]
    }
   ],
   "source": [
    "print(\"matrix1*matrix2 : \\n\", matrix_product)\n",
    "print(\"matrix1+matrix2 : \\n\", matrix_sum)\n",
    "print(\"det(matrix2) : \\n\", matrix_det)"
   ]
  },
  {
   "cell_type": "markdown",
   "metadata": {},
   "source": [
    "# Handling Tensors"
   ]
  },
  {
   "cell_type": "code",
   "execution_count": 14,
   "metadata": {},
   "outputs": [],
   "source": [
    "%matplotlib inline"
   ]
  },
  {
   "cell_type": "code",
   "execution_count": 15,
   "metadata": {},
   "outputs": [],
   "source": [
    "import matplotlib.image as mp_image\n",
    "filename = \"../imgs/keras-logo-small.jpg\"\n",
    "input_image = mp_image.imread(filename)"
   ]
  },
  {
   "cell_type": "code",
   "execution_count": 16,
   "metadata": {},
   "outputs": [
    {
     "name": "stdout",
     "output_type": "stream",
     "text": [
      "input dim = 3\n",
      "input shape = (300, 300, 3)\n"
     ]
    }
   ],
   "source": [
    "#dimension\n",
    "print('input dim = {}'.format(input_image.ndim))\n",
    "#shape\n",
    "print('input shape = {}'.format(input_image.shape))"
   ]
  },
  {
   "cell_type": "code",
   "execution_count": 17,
   "metadata": {},
   "outputs": [
    {
     "data": {
      "image/png": "[encoded data removed]",
      "text/plain": [
       "<Figure size 432x288 with 1 Axes>"
      ]
     },
     "metadata": {
      "needs_background": "light"
     },
     "output_type": "display_data"
    }
   ],
   "source": [
    "import matplotlib.pyplot as plt\n",
    "plt.imshow(input_image)\n",
    "plt.show()"
   ]
  },
  {
   "cell_type": "markdown",
   "metadata": {},
   "source": [
    "## Slicing"
   ]
  },
  {
   "cell_type": "code",
   "execution_count": 19,
   "metadata": {},
   "outputs": [],
   "source": [
    "result_slice = tf.slice(input_image,[10,0,0],[16,-1,-1])"
   ]
  },
  {
   "cell_type": "code",
   "execution_count": 20,
   "metadata": {},
   "outputs": [
    {
     "data": {
      "image/png": "[encoded data removed]",
      "text/plain": [
       "<Figure size 432x288 with 1 Axes>"
      ]
     },
     "metadata": {
      "needs_background": "light"
     },
     "output_type": "display_data"
    }
   ],
   "source": [
    "plt.imshow(result_slice)\n",
    "plt.show()"
   ]
  },
  {
   "cell_type": "markdown",
   "metadata": {},
   "source": [
    "## Transpose\n",
    "\n",
    "__Tensorflow 1.x.y__\n",
    "\n",
    "```python\n",
    "x = tf.Variable(input_image,name='x')\n",
    "model = tf.global_variables_initializer()\n",
    "\n",
    "with tf.Session() as session:\n",
    "    x = tf.transpose(x, perm=[1,0,2])\n",
    "    session.run(model)\n",
    "    result=session.run(x)\n",
    "```\n",
    "\n",
    "__Tensorflow 2.p.q__"
   ]
  },
  {
   "cell_type": "code",
   "execution_count": 34,
   "metadata": {},
   "outputs": [],
   "source": [
    "x = tf.Variable(input_image,name='x')\n",
    "result_transpose = tf.transpose(x, perm=[1,0,2])"
   ]
  },
  {
   "cell_type": "code",
   "execution_count": 35,
   "metadata": {},
   "outputs": [
    {
     "data": {
      "image/png": "[encoded data removed]",
      "text/plain": [
       "<Figure size 432x288 with 1 Axes>"
      ]
     },
     "metadata": {
      "needs_background": "light"
     },
     "output_type": "display_data"
    }
   ],
   "source": [
    "plt.imshow(result_transpose)\n",
    "plt.show()"
   ]
  },
  {
   "cell_type": "markdown",
   "metadata": {},
   "source": [
    "## Computing the Gradient\n",
    "\n",
    "Tensorflow 2.0 works in eager_execution mode by default, this mode doesn't allow gradient calculation in the same manner that Tensorflow 1.0. This example is more complicated than previous, and also more complex than gradient calculation in previou version of tensorflow.\n",
    "\n",
    "```python\n",
    "x = tf.placeholder(tf.float32)\n",
    "y = tf.log(x)   \n",
    "var_grad = tf.gradients(y, x)\n",
    "with tf.Session() as session:\n",
    "    var_grad_val = session.run(var_grad, feed_dict={x:2})\n",
    "    print(var_grad_val)\n",
    "```"
   ]
  },
  {
   "cell_type": "code",
   "execution_count": 38,
   "metadata": {},
   "outputs": [],
   "source": [
    "model = tf.keras.models.Sequential(\n",
    "    [tf.keras.layers.Dense(10, input_shape=(3,), name='fc1',activation=\"relu\"),\n",
    "     tf.keras.layers.Dense(3, input_shape=(3,), name='fc2')])"
   ]
  },
  {
   "cell_type": "markdown",
   "metadata": {},
   "source": [
    "The gradient here is calculated only with respect to the first FC layer(\"fc1) considering any other variable a constant"
   ]
  },
  {
   "cell_type": "code",
   "execution_count": 40,
   "metadata": {},
   "outputs": [
    {
     "name": "stdout",
     "output_type": "stream",
     "text": [
      "[<tf.Tensor: id=273, shape=(3, 10), dtype=float32, numpy=\n",
      "array([[-34507.54 ,  37782.89 ,      0.   ,      0.   ,      0.   ,\n",
      "         78838.66 ,      0.   ,  79818.3  , -86196.33 , -10959.067],\n",
      "       [-34507.54 ,  37782.89 ,      0.   ,      0.   ,      0.   ,\n",
      "         78838.66 ,      0.   ,  79818.3  , -86196.33 , -10959.067],\n",
      "       [-34507.54 ,  37782.89 ,      0.   ,      0.   ,      0.   ,\n",
      "         78838.664,      0.   ,  79818.29 , -86196.32 , -10959.068]],\n",
      "      dtype=float32)>, <tf.Tensor: id=266, shape=(10,), dtype=float32, numpy=\n",
      "array([-34506.457,  37784.496,      0.   ,      0.   ,      0.   ,\n",
      "        78837.13 ,      0.   ,  79806.305, -86195.99 , -10957.82 ],\n",
      "      dtype=float32)>]\n"
     ]
    }
   ],
   "source": [
    "inputs = tf.ones((1,299,299,3))\n",
    "with tf.GradientTape() as tape:\n",
    "    preds = model(inputs)\n",
    "    \n",
    "grads = tape.gradient(preds, model.get_layer(\"fc1\").trainable_variables)\n",
    "print(grads)"
   ]
  },
  {
   "cell_type": "markdown",
   "metadata": {},
   "source": [
    "# Why Tensorflow ?\n",
    "\n",
    "__TensorFlow__ is a free and open-source software library for dataflow and differentiable programming across a range of tasks. It is a symbolic math library, and is also used for machine learning applications such as neural networks. It is used for both research and production at Google and many other institutions and enterprises.[[TensorFlow Definition Wikipedia]](https://en.wikipedia.org/wiki/TensorFLow)"
   ]
  },
  {
   "cell_type": "markdown",
   "metadata": {},
   "source": [
    "# License\n",
    "\n",
    "This notebooks and correspondent images were taken from [Valerio Maggio Github repo](https://github.com/leriomaggio/deep-learning-keras-tensorflow.git). Small changes were applied during Wittylytics team training.\n",
    "\n",
    "The MIT License (MIT)\n",
    "\n",
    "Copyright (c) 2017 MPBA\n",
    "\n",
    "Permission is hereby granted, free of charge, to any person obtaining a copy\n",
    "of this software and associated documentation files (the \"Software\"), to deal\n",
    "in the Software without restriction, including without limitation the rights\n",
    "to use, copy, modify, merge, publish, distribute, sublicense, and/or sell\n",
    "copies of the Software, and to permit persons to whom the Software is\n",
    "furnished to do so, subject to the following conditions:\n",
    "\n",
    "The above copyright notice and this permission notice shall be included in all\n",
    "copies or substantial portions of the Software.\n",
    "\n",
    "THE SOFTWARE IS PROVIDED \"AS IS\", WITHOUT WARRANTY OF ANY KIND, EXPRESS OR\n",
    "IMPLIED, INCLUDING BUT NOT LIMITED TO THE WARRANTIES OF MERCHANTABILITY,\n",
    "FITNESS FOR A PARTICULAR PURPOSE AND NONINFRINGEMENT. IN NO EVENT SHALL THE\n",
    "AUTHORS OR COPYRIGHT HOLDERS BE LIABLE FOR ANY CLAIM, DAMAGES OR OTHER\n",
    "LIABILITY, WHETHER IN AN ACTION OF CONTRACT, TORT OR OTHERWISE, ARISING FROM,\n",
    "OUT OF OR IN CONNECTION WITH THE SOFTWARE OR THE USE OR OTHER DEALINGS IN THE\n",
    "SOFTWARE."
   ]
  }
 ],
 "metadata": {
  "kernelspec": {
   "display_name": "Python 3",
   "language": "python",
   "name": "python3"
  },
  "language_info": {
   "codemirror_mode": {
    "name": "ipython",
    "version": 3
   },
   "file_extension": ".py",
   "mimetype": "text/x-python",
   "name": "python",
   "nbconvert_exporter": "python",
   "pygments_lexer": "ipython3",
   "version": "3.6.9"
  }
 },
 "nbformat": 4,
 "nbformat_minor": 2
}
