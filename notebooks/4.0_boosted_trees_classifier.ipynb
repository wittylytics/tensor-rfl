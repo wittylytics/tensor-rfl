{
 "cells": [
  {
   "cell_type": "markdown",
   "metadata": {},
   "source": [
    "## Implementation of a Logistic Regression Model using Tensorflow and Keras"
   ]
  },
  {
   "cell_type": "code",
   "execution_count": 1,
   "metadata": {},
   "outputs": [
    {
     "name": "stdout",
     "output_type": "stream",
     "text": [
      "2.0.0\n"
     ]
    }
   ],
   "source": [
    "# Importing the required modules\n",
    "import pandas as pd\n",
    "import numpy as np\n",
    "import seaborn as sb\n",
    "import tensorflow as tf\n",
    "from tensorflow import keras as ks\n",
    "from tensorflow.estimator import LinearClassifier\n",
    "from sklearn import datasets\n",
    "from sklearn.model_selection import train_test_split\n",
    "from sklearn.metrics import accuracy_score, precision_score, recall_score\n",
    "print(tf.__version__)"
   ]
  },
  {
   "cell_type": "markdown",
   "metadata": {},
   "source": [
    "### Loading and configuring the Iris dataset"
   ]
  },
  {
   "cell_type": "code",
   "execution_count": 2,
   "metadata": {},
   "outputs": [
    {
     "data": {
      "text/html": [
       "<div>\n",
       "<style scoped>\n",
       "    .dataframe tbody tr th:only-of-type {\n",
       "        vertical-align: middle;\n",
       "    }\n",
       "\n",
       "    .dataframe tbody tr th {\n",
       "        vertical-align: top;\n",
       "    }\n",
       "\n",
       "    .dataframe thead th {\n",
       "        text-align: right;\n",
       "    }\n",
       "</style>\n",
       "<table border=\"1\" class=\"dataframe\">\n",
       "  <thead>\n",
       "    <tr style=\"text-align: right;\">\n",
       "      <th></th>\n",
       "      <th>SepalLength</th>\n",
       "      <th>SepalWidth</th>\n",
       "      <th>PetalLegth</th>\n",
       "      <th>PetalWidth</th>\n",
       "      <th>Species</th>\n",
       "    </tr>\n",
       "  </thead>\n",
       "  <tbody>\n",
       "    <tr>\n",
       "      <th>count</th>\n",
       "      <td>100.000000</td>\n",
       "      <td>100.000000</td>\n",
       "      <td>100.000000</td>\n",
       "      <td>100.000000</td>\n",
       "      <td>100.000000</td>\n",
       "    </tr>\n",
       "    <tr>\n",
       "      <th>mean</th>\n",
       "      <td>6.262000</td>\n",
       "      <td>2.872000</td>\n",
       "      <td>4.906000</td>\n",
       "      <td>1.676000</td>\n",
       "      <td>0.500000</td>\n",
       "    </tr>\n",
       "    <tr>\n",
       "      <th>std</th>\n",
       "      <td>0.662834</td>\n",
       "      <td>0.332751</td>\n",
       "      <td>0.825578</td>\n",
       "      <td>0.424769</td>\n",
       "      <td>0.502519</td>\n",
       "    </tr>\n",
       "    <tr>\n",
       "      <th>min</th>\n",
       "      <td>4.900000</td>\n",
       "      <td>2.000000</td>\n",
       "      <td>3.000000</td>\n",
       "      <td>1.000000</td>\n",
       "      <td>0.000000</td>\n",
       "    </tr>\n",
       "    <tr>\n",
       "      <th>25%</th>\n",
       "      <td>5.800000</td>\n",
       "      <td>2.700000</td>\n",
       "      <td>4.375000</td>\n",
       "      <td>1.300000</td>\n",
       "      <td>0.000000</td>\n",
       "    </tr>\n",
       "    <tr>\n",
       "      <th>50%</th>\n",
       "      <td>6.300000</td>\n",
       "      <td>2.900000</td>\n",
       "      <td>4.900000</td>\n",
       "      <td>1.600000</td>\n",
       "      <td>0.500000</td>\n",
       "    </tr>\n",
       "    <tr>\n",
       "      <th>75%</th>\n",
       "      <td>6.700000</td>\n",
       "      <td>3.025000</td>\n",
       "      <td>5.525000</td>\n",
       "      <td>2.000000</td>\n",
       "      <td>1.000000</td>\n",
       "    </tr>\n",
       "    <tr>\n",
       "      <th>max</th>\n",
       "      <td>7.900000</td>\n",
       "      <td>3.800000</td>\n",
       "      <td>6.900000</td>\n",
       "      <td>2.500000</td>\n",
       "      <td>1.000000</td>\n",
       "    </tr>\n",
       "  </tbody>\n",
       "</table>\n",
       "</div>"
      ],
      "text/plain": [
       "       SepalLength  SepalWidth  PetalLegth  PetalWidth     Species\n",
       "count   100.000000  100.000000  100.000000  100.000000  100.000000\n",
       "mean      6.262000    2.872000    4.906000    1.676000    0.500000\n",
       "std       0.662834    0.332751    0.825578    0.424769    0.502519\n",
       "min       4.900000    2.000000    3.000000    1.000000    0.000000\n",
       "25%       5.800000    2.700000    4.375000    1.300000    0.000000\n",
       "50%       6.300000    2.900000    4.900000    1.600000    0.500000\n",
       "75%       6.700000    3.025000    5.525000    2.000000    1.000000\n",
       "max       7.900000    3.800000    6.900000    2.500000    1.000000"
      ]
     },
     "execution_count": 2,
     "metadata": {},
     "output_type": "execute_result"
    }
   ],
   "source": [
    "col_names = ['SepalLength', 'SepalWidth', 'PetalLegth', 'PetalWidth', 'Species']\n",
    "target_dimensions = ['Setosa', 'Versicolor', 'Virginica']\n",
    "training_data_path = tf.keras.utils.get_file('iris_training.csv', 'https://storage.googleapis.com/download.tensorflow.org/data/iris_training.csv')\n",
    "test_data_path = tf.keras.utils.get_file('iris_test.csv', 'https://storage.googleapis.com/download.tensorflow.org/data/iris_test.csv')\n",
    "\n",
    "training = pd.read_csv(training_data_path, names=col_names, header=0)\n",
    "training = training[training['Species'] >= 1]\n",
    "training['Species'] = training['Species'].replace([1,2], [0,1])\n",
    "test = pd.read_csv(test_data_path, names=col_names, header=0)\n",
    "test = test[test['Species'] >= 1]\n",
    "test['Species'] = test['Species'].replace([1,2], [0,1])\n",
    "\n",
    "training.reset_index(drop=True, inplace=True)\n",
    "test.reset_index(drop=True, inplace=True)\n",
    "iris_dataset = pd.concat([training, test], axis=0)\n",
    "iris_dataset.describe()"
   ]
  },
  {
   "cell_type": "markdown",
   "metadata": {},
   "source": [
    "### Checking  the relation between the variables  using pairplot and a correlation graph"
   ]
  },
  {
   "cell_type": "code",
   "execution_count": 3,
   "metadata": {},
   "outputs": [
    {
     "data": {
      "text/plain": [
       "<seaborn.axisgrid.PairGrid at 0x7f78bf3a16a0>"
      ]
     },
     "execution_count": 3,
     "metadata": {},
     "output_type": "execute_result"
    },
    {
     "data": {
      "image/png": "[encoded data removed]",
      "text/plain": [
       "<Figure size 900x900 with 30 Axes>"
      ]
     },
     "metadata": {
      "needs_background": "light"
     },
     "output_type": "display_data"
    }
   ],
   "source": [
    "sb.pairplot(iris_dataset, diag_kind=\"kde\")"
   ]
  },
  {
   "cell_type": "code",
   "execution_count": 4,
   "metadata": {},
   "outputs": [
    {
     "data": {
      "text/html": [
       "<style  type=\"text/css\" >\n",
       "    #T_0fd70c16_34b3_11ea_ae61_3863bb825b58row0_col0 {\n",
       "            background-color:  #b40426;\n",
       "            color:  #f1f1f1;\n",
       "        }    #T_0fd70c16_34b3_11ea_ae61_3863bb825b58row0_col1 {\n",
       "            background-color:  #b1cbfc;\n",
       "            color:  #000000;\n",
       "        }    #T_0fd70c16_34b3_11ea_ae61_3863bb825b58row0_col2 {\n",
       "            background-color:  #f4987a;\n",
       "            color:  #000000;\n",
       "        }    #T_0fd70c16_34b3_11ea_ae61_3863bb825b58row0_col3 {\n",
       "            background-color:  #c4d5f3;\n",
       "            color:  #000000;\n",
       "        }    #T_0fd70c16_34b3_11ea_ae61_3863bb825b58row0_col4 {\n",
       "            background-color:  #93b5fe;\n",
       "            color:  #000000;\n",
       "        }    #T_0fd70c16_34b3_11ea_ae61_3863bb825b58row1_col0 {\n",
       "            background-color:  #b1cbfc;\n",
       "            color:  #000000;\n",
       "        }    #T_0fd70c16_34b3_11ea_ae61_3863bb825b58row1_col1 {\n",
       "            background-color:  #b40426;\n",
       "            color:  #f1f1f1;\n",
       "        }    #T_0fd70c16_34b3_11ea_ae61_3863bb825b58row1_col2 {\n",
       "            background-color:  #a1c0ff;\n",
       "            color:  #000000;\n",
       "        }    #T_0fd70c16_34b3_11ea_ae61_3863bb825b58row1_col3 {\n",
       "            background-color:  #b7cff9;\n",
       "            color:  #000000;\n",
       "        }    #T_0fd70c16_34b3_11ea_ae61_3863bb825b58row1_col4 {\n",
       "            background-color:  #3b4cc0;\n",
       "            color:  #f1f1f1;\n",
       "        }    #T_0fd70c16_34b3_11ea_ae61_3863bb825b58row2_col0 {\n",
       "            background-color:  #f4987a;\n",
       "            color:  #000000;\n",
       "        }    #T_0fd70c16_34b3_11ea_ae61_3863bb825b58row2_col1 {\n",
       "            background-color:  #a1c0ff;\n",
       "            color:  #000000;\n",
       "        }    #T_0fd70c16_34b3_11ea_ae61_3863bb825b58row2_col2 {\n",
       "            background-color:  #b40426;\n",
       "            color:  #f1f1f1;\n",
       "        }    #T_0fd70c16_34b3_11ea_ae61_3863bb825b58row2_col3 {\n",
       "            background-color:  #f59c7d;\n",
       "            color:  #000000;\n",
       "        }    #T_0fd70c16_34b3_11ea_ae61_3863bb825b58row2_col4 {\n",
       "            background-color:  #f7b093;\n",
       "            color:  #000000;\n",
       "        }    #T_0fd70c16_34b3_11ea_ae61_3863bb825b58row3_col0 {\n",
       "            background-color:  #c4d5f3;\n",
       "            color:  #000000;\n",
       "        }    #T_0fd70c16_34b3_11ea_ae61_3863bb825b58row3_col1 {\n",
       "            background-color:  #b7cff9;\n",
       "            color:  #000000;\n",
       "        }    #T_0fd70c16_34b3_11ea_ae61_3863bb825b58row3_col2 {\n",
       "            background-color:  #f59c7d;\n",
       "            color:  #000000;\n",
       "        }    #T_0fd70c16_34b3_11ea_ae61_3863bb825b58row3_col3 {\n",
       "            background-color:  #b40426;\n",
       "            color:  #f1f1f1;\n",
       "        }    #T_0fd70c16_34b3_11ea_ae61_3863bb825b58row3_col4 {\n",
       "            background-color:  #f4987a;\n",
       "            color:  #000000;\n",
       "        }    #T_0fd70c16_34b3_11ea_ae61_3863bb825b58row4_col0 {\n",
       "            background-color:  #93b5fe;\n",
       "            color:  #000000;\n",
       "        }    #T_0fd70c16_34b3_11ea_ae61_3863bb825b58row4_col1 {\n",
       "            background-color:  #3b4cc0;\n",
       "            color:  #f1f1f1;\n",
       "        }    #T_0fd70c16_34b3_11ea_ae61_3863bb825b58row4_col2 {\n",
       "            background-color:  #f7b093;\n",
       "            color:  #000000;\n",
       "        }    #T_0fd70c16_34b3_11ea_ae61_3863bb825b58row4_col3 {\n",
       "            background-color:  #f4987a;\n",
       "            color:  #000000;\n",
       "        }    #T_0fd70c16_34b3_11ea_ae61_3863bb825b58row4_col4 {\n",
       "            background-color:  #b40426;\n",
       "            color:  #f1f1f1;\n",
       "        }</style><table id=\"T_0fd70c16_34b3_11ea_ae61_3863bb825b58\" ><thead>    <tr>        <th class=\"blank level0\" ></th>        <th class=\"col_heading level0 col0\" >SepalLength</th>        <th class=\"col_heading level0 col1\" >SepalWidth</th>        <th class=\"col_heading level0 col2\" >PetalLegth</th>        <th class=\"col_heading level0 col3\" >PetalWidth</th>        <th class=\"col_heading level0 col4\" >Species</th>    </tr></thead><tbody>\n",
       "                <tr>\n",
       "                        <th id=\"T_0fd70c16_34b3_11ea_ae61_3863bb825b58level0_row0\" class=\"row_heading level0 row0\" >SepalLength</th>\n",
       "                        <td id=\"T_0fd70c16_34b3_11ea_ae61_3863bb825b58row0_col0\" class=\"data row0 col0\" >1</td>\n",
       "                        <td id=\"T_0fd70c16_34b3_11ea_ae61_3863bb825b58row0_col1\" class=\"data row0 col1\" >0.553855</td>\n",
       "                        <td id=\"T_0fd70c16_34b3_11ea_ae61_3863bb825b58row0_col2\" class=\"data row0 col2\" >0.828479</td>\n",
       "                        <td id=\"T_0fd70c16_34b3_11ea_ae61_3863bb825b58row0_col3\" class=\"data row0 col3\" >0.593709</td>\n",
       "                        <td id=\"T_0fd70c16_34b3_11ea_ae61_3863bb825b58row0_col4\" class=\"data row0 col4\" >0.494305</td>\n",
       "            </tr>\n",
       "            <tr>\n",
       "                        <th id=\"T_0fd70c16_34b3_11ea_ae61_3863bb825b58level0_row1\" class=\"row_heading level0 row1\" >SepalWidth</th>\n",
       "                        <td id=\"T_0fd70c16_34b3_11ea_ae61_3863bb825b58row1_col0\" class=\"data row1 col0\" >0.553855</td>\n",
       "                        <td id=\"T_0fd70c16_34b3_11ea_ae61_3863bb825b58row1_col1\" class=\"data row1 col1\" >1</td>\n",
       "                        <td id=\"T_0fd70c16_34b3_11ea_ae61_3863bb825b58row1_col2\" class=\"data row1 col2\" >0.519802</td>\n",
       "                        <td id=\"T_0fd70c16_34b3_11ea_ae61_3863bb825b58row1_col3\" class=\"data row1 col3\" >0.566203</td>\n",
       "                        <td id=\"T_0fd70c16_34b3_11ea_ae61_3863bb825b58row1_col4\" class=\"data row1 col4\" >0.30808</td>\n",
       "            </tr>\n",
       "            <tr>\n",
       "                        <th id=\"T_0fd70c16_34b3_11ea_ae61_3863bb825b58level0_row2\" class=\"row_heading level0 row2\" >PetalLegth</th>\n",
       "                        <td id=\"T_0fd70c16_34b3_11ea_ae61_3863bb825b58row2_col0\" class=\"data row2 col0\" >0.828479</td>\n",
       "                        <td id=\"T_0fd70c16_34b3_11ea_ae61_3863bb825b58row2_col1\" class=\"data row2 col1\" >0.519802</td>\n",
       "                        <td id=\"T_0fd70c16_34b3_11ea_ae61_3863bb825b58row2_col2\" class=\"data row2 col2\" >1</td>\n",
       "                        <td id=\"T_0fd70c16_34b3_11ea_ae61_3863bb825b58row2_col3\" class=\"data row2 col3\" >0.823348</td>\n",
       "                        <td id=\"T_0fd70c16_34b3_11ea_ae61_3863bb825b58row2_col4\" class=\"data row2 col4\" >0.786424</td>\n",
       "            </tr>\n",
       "            <tr>\n",
       "                        <th id=\"T_0fd70c16_34b3_11ea_ae61_3863bb825b58level0_row3\" class=\"row_heading level0 row3\" >PetalWidth</th>\n",
       "                        <td id=\"T_0fd70c16_34b3_11ea_ae61_3863bb825b58row3_col0\" class=\"data row3 col0\" >0.593709</td>\n",
       "                        <td id=\"T_0fd70c16_34b3_11ea_ae61_3863bb825b58row3_col1\" class=\"data row3 col1\" >0.566203</td>\n",
       "                        <td id=\"T_0fd70c16_34b3_11ea_ae61_3863bb825b58row3_col2\" class=\"data row3 col2\" >0.823348</td>\n",
       "                        <td id=\"T_0fd70c16_34b3_11ea_ae61_3863bb825b58row3_col3\" class=\"data row3 col3\" >1</td>\n",
       "                        <td id=\"T_0fd70c16_34b3_11ea_ae61_3863bb825b58row3_col4\" class=\"data row3 col4\" >0.828129</td>\n",
       "            </tr>\n",
       "            <tr>\n",
       "                        <th id=\"T_0fd70c16_34b3_11ea_ae61_3863bb825b58level0_row4\" class=\"row_heading level0 row4\" >Species</th>\n",
       "                        <td id=\"T_0fd70c16_34b3_11ea_ae61_3863bb825b58row4_col0\" class=\"data row4 col0\" >0.494305</td>\n",
       "                        <td id=\"T_0fd70c16_34b3_11ea_ae61_3863bb825b58row4_col1\" class=\"data row4 col1\" >0.30808</td>\n",
       "                        <td id=\"T_0fd70c16_34b3_11ea_ae61_3863bb825b58row4_col2\" class=\"data row4 col2\" >0.786424</td>\n",
       "                        <td id=\"T_0fd70c16_34b3_11ea_ae61_3863bb825b58row4_col3\" class=\"data row4 col3\" >0.828129</td>\n",
       "                        <td id=\"T_0fd70c16_34b3_11ea_ae61_3863bb825b58row4_col4\" class=\"data row4 col4\" >1</td>\n",
       "            </tr>\n",
       "    </tbody></table>"
      ],
      "text/plain": [
       "<pandas.io.formats.style.Styler at 0x7f78bc8ef668>"
      ]
     },
     "execution_count": 4,
     "metadata": {},
     "output_type": "execute_result"
    }
   ],
   "source": [
    "correlation_data = iris_dataset.corr()\n",
    "correlation_data.style.background_gradient(cmap='coolwarm', axis=None)"
   ]
  },
  {
   "cell_type": "markdown",
   "metadata": {},
   "source": [
    "### Descriptive statistics. Central tendency  and dispersion"
   ]
  },
  {
   "cell_type": "code",
   "execution_count": 5,
   "metadata": {},
   "outputs": [
    {
     "data": {
      "text/html": [
       "<div>\n",
       "<style scoped>\n",
       "    .dataframe tbody tr th:only-of-type {\n",
       "        vertical-align: middle;\n",
       "    }\n",
       "\n",
       "    .dataframe tbody tr th {\n",
       "        vertical-align: top;\n",
       "    }\n",
       "\n",
       "    .dataframe thead th {\n",
       "        text-align: right;\n",
       "    }\n",
       "</style>\n",
       "<table border=\"1\" class=\"dataframe\">\n",
       "  <thead>\n",
       "    <tr style=\"text-align: right;\">\n",
       "      <th></th>\n",
       "      <th>count</th>\n",
       "      <th>mean</th>\n",
       "      <th>std</th>\n",
       "      <th>min</th>\n",
       "      <th>25%</th>\n",
       "      <th>50%</th>\n",
       "      <th>75%</th>\n",
       "      <th>max</th>\n",
       "    </tr>\n",
       "  </thead>\n",
       "  <tbody>\n",
       "    <tr>\n",
       "      <th>SepalLength</th>\n",
       "      <td>100.0</td>\n",
       "      <td>6.262</td>\n",
       "      <td>0.662834</td>\n",
       "      <td>4.9</td>\n",
       "      <td>5.800</td>\n",
       "      <td>6.3</td>\n",
       "      <td>6.700</td>\n",
       "      <td>7.9</td>\n",
       "    </tr>\n",
       "    <tr>\n",
       "      <th>SepalWidth</th>\n",
       "      <td>100.0</td>\n",
       "      <td>2.872</td>\n",
       "      <td>0.332751</td>\n",
       "      <td>2.0</td>\n",
       "      <td>2.700</td>\n",
       "      <td>2.9</td>\n",
       "      <td>3.025</td>\n",
       "      <td>3.8</td>\n",
       "    </tr>\n",
       "    <tr>\n",
       "      <th>PetalLegth</th>\n",
       "      <td>100.0</td>\n",
       "      <td>4.906</td>\n",
       "      <td>0.825578</td>\n",
       "      <td>3.0</td>\n",
       "      <td>4.375</td>\n",
       "      <td>4.9</td>\n",
       "      <td>5.525</td>\n",
       "      <td>6.9</td>\n",
       "    </tr>\n",
       "    <tr>\n",
       "      <th>PetalWidth</th>\n",
       "      <td>100.0</td>\n",
       "      <td>1.676</td>\n",
       "      <td>0.424769</td>\n",
       "      <td>1.0</td>\n",
       "      <td>1.300</td>\n",
       "      <td>1.6</td>\n",
       "      <td>2.000</td>\n",
       "      <td>2.5</td>\n",
       "    </tr>\n",
       "    <tr>\n",
       "      <th>Species</th>\n",
       "      <td>100.0</td>\n",
       "      <td>0.500</td>\n",
       "      <td>0.502519</td>\n",
       "      <td>0.0</td>\n",
       "      <td>0.000</td>\n",
       "      <td>0.5</td>\n",
       "      <td>1.000</td>\n",
       "      <td>1.0</td>\n",
       "    </tr>\n",
       "  </tbody>\n",
       "</table>\n",
       "</div>"
      ],
      "text/plain": [
       "             count   mean       std  min    25%  50%    75%  max\n",
       "SepalLength  100.0  6.262  0.662834  4.9  5.800  6.3  6.700  7.9\n",
       "SepalWidth   100.0  2.872  0.332751  2.0  2.700  2.9  3.025  3.8\n",
       "PetalLegth   100.0  4.906  0.825578  3.0  4.375  4.9  5.525  6.9\n",
       "PetalWidth   100.0  1.676  0.424769  1.0  1.300  1.6  2.000  2.5\n",
       "Species      100.0  0.500  0.502519  0.0  0.000  0.5  1.000  1.0"
      ]
     },
     "execution_count": 5,
     "metadata": {},
     "output_type": "execute_result"
    }
   ],
   "source": [
    "stats = iris_dataset.describe()\n",
    "iris_stats = stats.transpose()\n",
    "iris_stats"
   ]
  },
  {
   "cell_type": "markdown",
   "metadata": {},
   "source": [
    "### Selecting the required columns"
   ]
  },
  {
   "cell_type": "code",
   "execution_count": 6,
   "metadata": {},
   "outputs": [],
   "source": [
    "X_data = iris_dataset[[i for i in iris_dataset.columns\n",
    "                      if i not in ['Species']]]\n",
    "y_data = iris_dataset[['Species']]"
   ]
  },
  {
   "cell_type": "markdown",
   "metadata": {},
   "source": [
    "### Train and test split"
   ]
  },
  {
   "cell_type": "code",
   "execution_count": 7,
   "metadata": {},
   "outputs": [
    {
     "name": "stdout",
     "output_type": "stream",
     "text": [
      "No. of rows in Training Features:  80\n",
      "No. of rows in Test Features:  20\n",
      "No. of columns in Training Features:  4\n",
      "No. of columns in Test Features:  4\n",
      "No. of rows in Training Labels:  80\n",
      "No. of rows in Test Labels:  20\n",
      "No. of columns in Training Labels:  1\n",
      "No. of columns in Test Labels:  1\n"
     ]
    }
   ],
   "source": [
    "training_features, test_features, training_labels, test_labels = train_test_split(X_data, y_data, test_size=0.2)\n",
    "print('No. of rows in Training Features: ', training_features.shape[0])\n",
    "print('No. of rows in Test Features: ', test_features.shape[0])\n",
    "print('No. of columns in Training Features: ', training_features.shape[1])\n",
    "print('No. of columns in Test Features: ', test_features.shape[1])\n",
    "print('No. of rows in Training Labels: ', training_labels.shape[0])\n",
    "print('No. of rows in Test Labels: ', test_labels.shape[0])\n",
    "print('No. of columns in Training Labels: ', training_labels.shape[1])\n",
    "print('No. of columns in Test Labels: ', test_labels.shape[1])"
   ]
  },
  {
   "cell_type": "markdown",
   "metadata": {},
   "source": [
    "### Normalizing the data"
   ]
  },
  {
   "cell_type": "code",
   "execution_count": 8,
   "metadata": {},
   "outputs": [],
   "source": [
    "def norm(x):\n",
    "    stats = x.describe()\n",
    "    stats = stats.transpose()\n",
    "    return (x - stats['mean']) / stats['std']\n",
    "\n",
    "normed_train_features = norm(training_features)\n",
    "normed_test_features = norm(test_features)"
   ]
  },
  {
   "cell_type": "markdown",
   "metadata": {},
   "source": [
    "### Building the input pipeline for the Tensorflow model"
   ]
  },
  {
   "cell_type": "code",
   "execution_count": 9,
   "metadata": {},
   "outputs": [],
   "source": [
    "def feed_input(features_dataframe, target_dataframe, num_of_epochs=10, shuffle=True, batch_size=32):\n",
    "    def input_feed_function():\n",
    "        dataset = tf.data.Dataset.from_tensor_slices((dict(features_dataframe), target_dataframe))\n",
    "        if shuffle:\n",
    "            dataset = dataset.shuffle(2000)\n",
    "        dataset = dataset.batch(batch_size).repeat(num_of_epochs)\n",
    "        return dataset\n",
    "    return input_feed_function"
   ]
  },
  {
   "cell_type": "code",
   "execution_count": 10,
   "metadata": {},
   "outputs": [],
   "source": [
    "train_feed_input = feed_input(normed_train_features, training_labels)\n",
    "train_feed_input_testing = feed_input(normed_train_features, training_labels, num_of_epochs=1, shuffle=False)\n",
    "test_feed_input = feed_input(normed_test_features, test_labels, num_of_epochs=1, shuffle=False)"
   ]
  },
  {
   "cell_type": "markdown",
   "metadata": {},
   "source": [
    "### Model training"
   ]
  },
  {
   "cell_type": "code",
   "execution_count": 11,
   "metadata": {},
   "outputs": [
    {
     "name": "stdout",
     "output_type": "stream",
     "text": [
      "INFO:tensorflow:Using default config.\n",
      "WARNING:tensorflow:Using temporary folder as model directory: /tmp/tmpniisv0px\n",
      "INFO:tensorflow:Using config: {'_model_dir': '/tmp/tmpniisv0px', '_tf_random_seed': None, '_save_summary_steps': 100, '_save_checkpoints_steps': None, '_save_checkpoints_secs': 600, '_session_config': allow_soft_placement: true\n",
      "graph_options {\n",
      "  rewrite_options {\n",
      "    meta_optimizer_iterations: ONE\n",
      "  }\n",
      "}\n",
      ", '_keep_checkpoint_max': 5, '_keep_checkpoint_every_n_hours': 10000, '_log_step_count_steps': 100, '_train_distribute': None, '_device_fn': None, '_protocol': None, '_eval_distribute': None, '_experimental_distribute': None, '_experimental_max_worker_delay_secs': None, '_session_creation_timeout_secs': 7200, '_service': None, '_cluster_spec': <tensorflow.python.training.server_lib.ClusterSpec object at 0x7f78b80a57f0>, '_task_type': 'worker', '_task_id': 0, '_global_id_in_cluster': 0, '_master': '', '_evaluation_master': '', '_is_chief': True, '_num_ps_replicas': 0, '_num_worker_replicas': 1}\n",
      "WARNING:tensorflow:From /home/karel/data-science/lib/python3.6/site-packages/tensorflow_core/python/ops/resource_variable_ops.py:1630: calling BaseResourceVariable.__init__ (from tensorflow.python.ops.resource_variable_ops) with constraint is deprecated and will be removed in a future version.\n",
      "Instructions for updating:\n",
      "If using Keras pass *_constraint arguments to layers.\n",
      "WARNING:tensorflow:From /home/karel/data-science/lib/python3.6/site-packages/tensorflow_core/python/training/training_util.py:236: Variable.initialized_value (from tensorflow.python.ops.variables) is deprecated and will be removed in a future version.\n",
      "Instructions for updating:\n",
      "Use Variable.read_value. Variables in 2.X are initialized automatically both in eager and graph (inside tf.defun) contexts.\n",
      "INFO:tensorflow:Calling model_fn.\n",
      "WARNING:tensorflow:From /home/karel/data-science/lib/python3.6/site-packages/tensorflow_estimator/python/estimator/canned/head.py:437: to_float (from tensorflow.python.ops.math_ops) is deprecated and will be removed in a future version.\n",
      "Instructions for updating:\n",
      "Use `tf.cast` instead.\n",
      "INFO:tensorflow:Done calling model_fn.\n",
      "INFO:tensorflow:Create CheckpointSaverHook.\n",
      "WARNING:tensorflow:Issue encountered when serializing resources.\n",
      "Type is unsupported, or the types of the items don't match field type in CollectionDef. Note this is a warning and probably safe to ignore.\n",
      "'_Resource' object has no attribute 'name'\n",
      "INFO:tensorflow:Graph was finalized.\n",
      "INFO:tensorflow:Running local_init_op.\n",
      "INFO:tensorflow:Done running local_init_op.\n",
      "WARNING:tensorflow:Issue encountered when serializing resources.\n",
      "Type is unsupported, or the types of the items don't match field type in CollectionDef. Note this is a warning and probably safe to ignore.\n",
      "'_Resource' object has no attribute 'name'\n",
      "INFO:tensorflow:Saving checkpoints for 0 into /tmp/tmpniisv0px/model.ckpt.\n",
      "WARNING:tensorflow:Issue encountered when serializing resources.\n",
      "Type is unsupported, or the types of the items don't match field type in CollectionDef. Note this is a warning and probably safe to ignore.\n",
      "'_Resource' object has no attribute 'name'\n",
      "INFO:tensorflow:loss = 0.6931472, step = 0\n",
      "WARNING:tensorflow:It seems that global step (tf.train.get_global_step) has not been increased. Current value (could be stable): 0 vs previous value: 0. You could increase the global step by passing tf.train.get_global_step() to Optimizer.apply_gradients or Optimizer.minimize.\n",
      "INFO:tensorflow:Saving checkpoints for 29 into /tmp/tmpniisv0px/model.ckpt.\n",
      "WARNING:tensorflow:Issue encountered when serializing resources.\n",
      "Type is unsupported, or the types of the items don't match field type in CollectionDef. Note this is a warning and probably safe to ignore.\n",
      "'_Resource' object has no attribute 'name'\n",
      "INFO:tensorflow:Loss for final step: 0.062452674.\n"
     ]
    },
    {
     "data": {
      "text/plain": [
       "<tensorflow_estimator.python.estimator.canned.boosted_trees.BoostedTreesClassifier at 0x7f78b80a5d30>"
      ]
     },
     "execution_count": 11,
     "metadata": {},
     "output_type": "execute_result"
    }
   ],
   "source": [
    "from tensorflow.estimator import BoostedTreesClassifier\n",
    "\n",
    "feature_columns_numeric = [tf.feature_column.numeric_column(m) for m in training_features.columns]\n",
    "btree_model = BoostedTreesClassifier(feature_columns=feature_columns_numeric, n_batches_per_layer=1)\n",
    "btree_model.train(train_feed_input)"
   ]
  },
  {
   "cell_type": "markdown",
   "metadata": {},
   "source": [
    "### Making predictions"
   ]
  },
  {
   "cell_type": "code",
   "execution_count": 12,
   "metadata": {},
   "outputs": [
    {
     "name": "stdout",
     "output_type": "stream",
     "text": [
      "INFO:tensorflow:Calling model_fn.\n",
      "INFO:tensorflow:Done calling model_fn.\n",
      "INFO:tensorflow:Graph was finalized.\n",
      "INFO:tensorflow:Restoring parameters from /tmp/tmpniisv0px/model.ckpt-29\n",
      "INFO:tensorflow:Running local_init_op.\n",
      "INFO:tensorflow:Done running local_init_op.\n",
      "INFO:tensorflow:Calling model_fn.\n",
      "INFO:tensorflow:Done calling model_fn.\n",
      "INFO:tensorflow:Graph was finalized.\n",
      "INFO:tensorflow:Restoring parameters from /tmp/tmpniisv0px/model.ckpt-29\n",
      "INFO:tensorflow:Running local_init_op.\n",
      "INFO:tensorflow:Done running local_init_op.\n"
     ]
    }
   ],
   "source": [
    "train_predictions = btree_model.predict(train_feed_input_testing)\n",
    "test_predictions = btree_model.predict(test_feed_input)\n",
    "train_predictions_series = pd.Series([p['classes'][0].decode('utf-8')\n",
    "                                      for p in train_predictions])\n",
    "test_predictions_series = pd.Series([p['classes'][0].decode('utf-8')\n",
    "                                     for p in test_predictions])"
   ]
  },
  {
   "cell_type": "code",
   "execution_count": 13,
   "metadata": {},
   "outputs": [],
   "source": [
    "train_predictions_df = pd.DataFrame(train_predictions_series, columns=['predictions'])\n",
    "test_predictions_df = pd.DataFrame(test_predictions_series, columns=['predictions'])\n",
    "training_labels.reset_index(drop=True, inplace=True)\n",
    "train_predictions_df.reset_index(drop=True, inplace=True)\n",
    "test_labels.reset_index(drop=True, inplace=True)\n",
    "test_predictions_df.reset_index(drop=True, inplace=True)\n",
    "train_labels_with_predictions_df = pd.concat([training_labels, train_predictions_df], axis=1)\n",
    "test_labels_with_predictions_df = pd.concat([test_labels, test_predictions_df], axis=1)"
   ]
  },
  {
   "cell_type": "markdown",
   "metadata": {},
   "source": [
    "### Validation"
   ]
  },
  {
   "cell_type": "code",
   "execution_count": 14,
   "metadata": {},
   "outputs": [],
   "source": [
    "def calculate_binary_class_scores(y_true, y_pred):\n",
    "    accuracy = accuracy_score(y_true, y_pred.astype('int64'))\n",
    "    precision = precision_score(y_true, y_pred.astype('int64'),average='macro')\n",
    "    recall = recall_score(y_true, y_pred.astype('int64'), average='macro')\n",
    "    return accuracy, precision, recall\n",
    "\n",
    "train_accuracy_score, train_precision_score, train_recall_score = calculate_binary_class_scores(\n",
    "    training_labels, train_predictions_series)\n",
    "test_accuracy_score, test_precision_score, test_recall_score = calculate_binary_class_scores(\n",
    "    test_labels, test_predictions_series)"
   ]
  },
  {
   "cell_type": "code",
   "execution_count": 39,
   "metadata": {},
   "outputs": [
    {
     "name": "stdout",
     "output_type": "stream",
     "text": [
      "Training data accuracy (%)= 100.0\n",
      "Training data precision (%)= 100.0\n",
      "Training data recall (%)= 100.0\n",
      "--------------------------------------------------\n",
      "Test data accuracy (%)= 95.0\n",
      "Test data precision (%)= 95.83\n",
      "Test data recall (%)= 94.44\n"
     ]
    }
   ],
   "source": [
    "print('Training data accuracy (%)=', round(train_accuracy_score*100,2))\n",
    "print('Training data precision (%)=', round(train_precision_score*100,2))\n",
    "print('Training data recall (%)=', round(train_recall_score*100,2))\n",
    "print('-'*50)\n",
    "print('Test data accuracy (%)=', round(test_accuracy_score*100,2))\n",
    "print('Test data precision (%)=', round(test_precision_score*100,2))\n",
    "print('Test data recall (%)=', round(test_recall_score*100,2))"
   ]
  }
 ],
 "metadata": {
  "kernelspec": {
   "display_name": "Python 3",
   "language": "python",
   "name": "python3"
  },
  "language_info": {
   "codemirror_mode": {
    "name": "ipython",
    "version": 3
   },
   "file_extension": ".py",
   "mimetype": "text/x-python",
   "name": "python",
   "nbconvert_exporter": "python",
   "pygments_lexer": "ipython3",
   "version": "3.6.9"
  }
 },
 "nbformat": 4,
 "nbformat_minor": 2
}
