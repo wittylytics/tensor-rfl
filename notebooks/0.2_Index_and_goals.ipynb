{
 "cells": [
  {
   "cell_type": "markdown",
   "metadata": {},
   "source": [
    "# Index and Goals\n",
    "\n",
    "The present notebook links all the notebooks in this collection, to make more browsable the contents.\n",
    "\n",
    "Also adds some goals to guide to readers about the original main goals or content divition of the authors.\n",
    "\n",
    "__Note__: this collection was made to train the scientific team of Wittylytics."
   ]
  },
  {
   "cell_type": "markdown",
   "metadata": {},
   "source": [
    "### Organization & Basic Configs\n",
    "\n",
    "- 0.1 [Preamble](0.1_Preliminaries.ipynb)\n",
    "- 0.2 [Index & Goals]()\n",
    "\n",
    "### Theoric Introduction\n",
    "\n",
    "- 1.0 [Neural Network Concepts](1.0_Intro_Deep_Learning_and_ANN.ipynb)\n",
    "\n",
    "### Introduction to Tf technologies\n",
    "\n",
    "Objective: manipulate tensorflow, keras and tensorboard doing basic examples.\n",
    "\n",
    "- 2.0 [Tensorflow](2.0_Tensorflow_2.0_Intro.ipynb)\n",
    "- 2.1 [Keras](2.1_Keras_Intro.ipynb)\n",
    "- 2.2 [Tensorboard](2.1_Tensorboard_and_Advanced_conf.ipynb)\n",
    "\n",
    "### Basic Models\n",
    "\n",
    "Objective: What is a model? How to build a simple model? Understand maths behind this models.\n",
    "\n",
    "- 3.0 [Linear Regression](3.0_linear_regression.ipynb)\n",
    "- 3.1 [Logistic Regression](3.1_logistic_regression.ipynb)\n",
    "\n",
    "### Advanced configurations\n",
    "\n",
    "Objective: More advance configurations to work with complex models and real examples. Also introduce Tensorflow Hub, Tensorflow Community, tf.data, \n",
    "\n",
    "- 4.0 [Datasets]()\n",
    "- 4.1 [GPU]()\n",
    "\n",
    "### Advanced Models\n",
    "\n",
    "- 5.0 [Boosted Trees Classifier](4.0_boosted_trees_classifier.ipynb)\n",
    "- 5.1 [Building Neural Networks](4.1_building_neural_networks.ipynb)\n",
    "\n",
    "### Applying Tensorflow\n",
    "\n",
    "- tf extended (TFX), tf serving, tf transformation\n",
    "\n",
    "Conclusions: what comming next in the Tutorial II: Applied Deep Learning"
   ]
  },
  {
   "cell_type": "markdown",
   "metadata": {
    "collapsed": true
   },
   "source": [
    "# Acknowledgements\n",
    "\n",
    "+ This notebook idea was originally taken from the tutorial __The Jupyter Interactive Widget Ecosystem__, 2017, SciPy. Authors: Matt Craig, Jason Grout, and Sylvain Corlay. [Original DOCs](https://github.com/mwcraig/scipy2017-jupyter-widgets-tutorial.git)"
   ]
  }
 ],
 "metadata": {
  "kernelspec": {
   "display_name": "Python 3",
   "language": "python",
   "name": "python3"
  },
  "language_info": {
   "codemirror_mode": {
    "name": "ipython",
    "version": 3
   },
   "file_extension": ".py",
   "mimetype": "text/x-python",
   "name": "python",
   "nbconvert_exporter": "python",
   "pygments_lexer": "ipython3",
   "version": "3.6.9"
  }
 },
 "nbformat": 4,
 "nbformat_minor": 2
}
